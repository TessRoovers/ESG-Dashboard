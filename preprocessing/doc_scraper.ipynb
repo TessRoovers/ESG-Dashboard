{
 "cells": [
  {
   "cell_type": "code",
   "execution_count": 8,
   "metadata": {},
   "outputs": [],
   "source": [
    "import requests\n",
    "from bs4 import BeautifulSoup\n",
    " \n",
    "url = 'http://climatecasechart.com/search/?fwp_per_page=1700'\n",
    "reqs = requests.get(url)\n",
    "soup = BeautifulSoup(reqs.text, 'html.parser')\n",
    " \n",
    "cases = []\n",
    "for link in soup.find_all('a'):\n",
    "    if '/case/' in link.get('href'):\n",
    "        cases.append(link.get('href'))\n",
    "cases = list(dict.fromkeys(cases))"
   ]
  },
  {
   "cell_type": "code",
   "execution_count": 21,
   "metadata": {},
   "outputs": [
    {
     "name": "stdout",
     "output_type": "stream",
     "text": [
      "1606 / 1607 scraped"
     ]
    }
   ],
   "source": [
    "from sys import stdout\n",
    "pdfs = []\n",
    "\n",
    "for index, case in enumerate(cases):\n",
    "    reqs = requests.get(case)\n",
    "    soup = BeautifulSoup(reqs.text, 'html.parser')\n",
    "    print(f'\\r{index} / {len(cases)} scraped', end='', flush=True)\n",
    "\n",
    "    for link in soup.find_all('a'):\n",
    "        if '.pdf' in link.get('href'):\n",
    "            pdfs.append(link.get('href'))\n",
    "\n"
   ]
  }
 ],
 "metadata": {
  "kernelspec": {
   "display_name": "base",
   "language": "python",
   "name": "python3"
  },
  "language_info": {
   "codemirror_mode": {
    "name": "ipython",
    "version": 3
   },
   "file_extension": ".py",
   "mimetype": "text/x-python",
   "name": "python",
   "nbconvert_exporter": "python",
   "pygments_lexer": "ipython3",
   "version": "3.9.7"
  },
  "orig_nbformat": 4
 },
 "nbformat": 4,
 "nbformat_minor": 2
}
